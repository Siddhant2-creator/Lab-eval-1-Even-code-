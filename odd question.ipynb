{
 "cells": [
  {
   "cell_type": "code",
   "execution_count": 1,
   "id": "93407363",
   "metadata": {},
   "outputs": [],
   "source": [
    "contacts = {}"
   ]
  },
  {
   "cell_type": "code",
   "execution_count": 3,
   "id": "7aaf6290",
   "metadata": {},
   "outputs": [],
   "source": [
    "def add_contacts(contacts, Id, name, phone, email):\n",
    "    if Id in contacts:\n",
    "        print(\"This person already exists in contacts.\")\n",
    "        return\n",
    "    \n",
    "    contacts[Id] = {\n",
    "        \"name\" : name,\n",
    "        \"phone\" : phone,\n",
    "        \"email\" : email\n",
    "    }\n",
    "    \n",
    "    return"
   ]
  },
  {
   "cell_type": "code",
   "execution_count": 4,
   "id": "f8adcb0d",
   "metadata": {},
   "outputs": [],
   "source": [
    "def update_num(contacts, phone, Id):\n",
    "    if Id not in contacts:\n",
    "        print(\"This person does not exist in your contact List\")\n",
    "        return\n",
    "    contacts[Id][\"phone\"] = phone\n",
    "    print(\"Phone number updated successfully.\")\n",
    "    return\n",
    "\n",
    "def update_email(contacts, email, Id):\n",
    "    if Id not in contacts:\n",
    "        print(\"This person does not exist in your contact List\")\n",
    "        return\n",
    "    contacts[Id][\"email\"] = email\n",
    "    print(\"Email id updated successfully.\")\n",
    "    return"
   ]
  },
  {
   "cell_type": "code",
   "execution_count": 7,
   "id": "be4a8023",
   "metadata": {},
   "outputs": [],
   "source": [
    "def delete(contacts, phone):\n",
    "    it = 0\n",
    "    \n",
    "    for Id, details in contacts.items:\n",
    "        if details[\"phone\"] == phone:\n",
    "            del contacts[Id]\n",
    "            print('Successfully deleted')\n",
    "            return\n",
    "        it = it + 1\n",
    "        \n",
    "    if it > len(contacts):\n",
    "        print(\"Contact does not exist with phone number \", phone)\n",
    "        return"
   ]
  },
  {
   "cell_type": "code",
   "execution_count": 9,
   "id": "99b6bf3d",
   "metadata": {},
   "outputs": [],
   "source": [
    "def listing(contacts):\n",
    "    \n",
    "    for Id, details in contacts.items:\n",
    "        print(\"Id : \",Id, end = \" \")\n",
    "        print(\"Name : \", details[\"name\"], end = \" \")\n",
    "        print(\"Phone : \", details[\"phone\"], end = \" \")\n",
    "        print(\"Email id : \", details[\"email\"])\n",
    "        \n",
    "    return\n",
    "        "
   ]
  },
  {
   "cell_type": "code",
   "execution_count": 10,
   "id": "c5179b50",
   "metadata": {},
   "outputs": [],
   "source": [
    "def findd(contacts, val):\n",
    "    \n",
    "    for Id, details in contacts.items:\n",
    "        if details[\"name\"] == val:\n",
    "            print(contacts[Id])\n",
    "            return\n",
    "        elif details[\"email\"] == val:\n",
    "            print(contacts[Id])\n",
    "            return\n",
    "    \n",
    "    print(\"Contact not found\")\n",
    "    return"
   ]
  },
  {
   "cell_type": "code",
   "execution_count": 14,
   "id": "f8820425",
   "metadata": {},
   "outputs": [],
   "source": [
    "def findd_acc(contacts, letter):\n",
    "    \n",
    "    first_char = []\n",
    "    for Id, details in contacts.items:\n",
    "        if details[\"name\"][0] == letter:\n",
    "            first_chat.append(contacts[Id])\n",
    "            \n",
    "    print(first_char)\n",
    "    return\n",
    "            "
   ]
  },
  {
   "cell_type": "code",
   "execution_count": 15,
   "id": "ce525945",
   "metadata": {},
   "outputs": [
    {
     "name": "stdout",
     "output_type": "stream",
     "text": [
      "Enter the number of contact to store : 2\n",
      "Enter name : siddhant\n",
      "Enter email : siddhnt@mail.com\n",
      "Enter phone : 999758\n",
      "Enter name : anurag\n",
      "Enter email : anurag@mail.com\n",
      "Enter phone : 98375\n"
     ]
    }
   ],
   "source": [
    "Id = 0\n",
    "\n",
    "print(\"Enter the number of contact to store :\", end = \" \")\n",
    "n = int(input(\"\"))\n",
    "\n",
    "while n > 0:\n",
    "    print(\"Enter name : \", end =\"\")\n",
    "    name = input(\"\")\n",
    "    print(\"Enter email : \", end = \"\")\n",
    "    email = input(\"\")\n",
    "    print(\"Enter phone : \", end = \"\")\n",
    "    phone = input(\"\")\n",
    "    add_contacts(contacts, Id, name, phone, email)\n",
    "    n = n - 1\n",
    "    Id = Id + 1"
   ]
  },
  {
   "cell_type": "code",
   "execution_count": 16,
   "id": "87495e36",
   "metadata": {},
   "outputs": [
    {
     "name": "stdout",
     "output_type": "stream",
     "text": [
      "{0: {'name': 'siddhant', 'phone': '999758', 'email': 'siddhnt@mail.com'}, 1: {'name': 'anurag', 'phone': '98375', 'email': 'anurag@mail.com'}}\n"
     ]
    }
   ],
   "source": [
    "print(contacts)"
   ]
  },
  {
   "cell_type": "code",
   "execution_count": null,
   "id": "8291d9b0",
   "metadata": {},
   "outputs": [],
   "source": []
  }
 ],
 "metadata": {
  "kernelspec": {
   "display_name": "Python 3 (ipykernel)",
   "language": "python",
   "name": "python3"
  },
  "language_info": {
   "codemirror_mode": {
    "name": "ipython",
    "version": 3
   },
   "file_extension": ".py",
   "mimetype": "text/x-python",
   "name": "python",
   "nbconvert_exporter": "python",
   "pygments_lexer": "ipython3",
   "version": "3.11.5"
  }
 },
 "nbformat": 4,
 "nbformat_minor": 5
}
